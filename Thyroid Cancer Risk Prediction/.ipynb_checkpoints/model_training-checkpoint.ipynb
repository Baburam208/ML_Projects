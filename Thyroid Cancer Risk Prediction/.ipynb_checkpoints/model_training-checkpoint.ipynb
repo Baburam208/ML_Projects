{
 "cells": [
  {
   "cell_type": "markdown",
   "id": "f5200cd2-c15b-488e-89e9-3ff8769632bd",
   "metadata": {},
   "source": [
    "### Training"
   ]
  },
  {
   "cell_type": "code",
   "execution_count": null,
   "id": "134bbd68-5181-4bd4-ae60-cda19e485293",
   "metadata": {},
   "outputs": [],
   "source": [
    "import pandas as pd\n",
    "import numpy as np\n",
    "import warnings\n",
    "from sklearn.ensemble import RandomForestClassifier\n",
    "from sklearn.model_selection import train_test_split\n",
    "from sklearn.preprocessing import StandardScaler, LabelEncoder\n",
    "from sklearn.metrics import classification_report, accuracy_score, precision_score, recall_score, f1_score, roc_auc_score, confusion_matrix\n",
    "from imblearn.over_sampling import SMOTE\n",
    "\n",
    "warnings.filterwarnings(\"ignore\")  # Suppress warnings for cleaner output\n",
    "\n",
    "# Load dataset\n",
    "df = pd.read_csv(\"thyroid_cancer_risk_data.csv\")  # Replace with actual dataset path\n",
    "\n",
    "# Drop Patient_ID\n",
    "df.drop(columns=[\"Patient_ID\"], inplace=True)\n",
    "\n",
    "# Encode ordinal column\n",
    "risk_mapping = {\"Low\": 0, \"Medium\": 1, \"High\": 2}\n",
    "df[\"Thyroid_Cancer_Risk\"] = df[\"Thyroid_Cancer_Risk\"].map(risk_mapping)\n",
    "\n",
    "# Encode categorical features and save encoders\n",
    "categorical_cols = [\"Gender\", \"Country\", \"Ethnicity\", \"Family_History\", \"Radiation_Exposure\", \n",
    "                     \"Iodine_Deficiency\", \"Smoking\", \"Obesity\", \"Diabetes\"]\n",
    "\n",
    "encoders = {}\n",
    "for col in categorical_cols:\n",
    "    le = LabelEncoder()\n",
    "    df[col] = le.fit_transform(df[col])\n",
    "    encoders[col] = le\n",
    "\n",
    "# Encode target variable\n",
    "df[\"Diagnosis\"] = df[\"Diagnosis\"].map({\"Benign\": 0, \"Malignant\": 1})\n",
    "\n",
    "# Handle class imbalance using SMOTE\n",
    "X = df.drop(columns=[\"Diagnosis\"])\n",
    "y = df[\"Diagnosis\"]\n",
    "\n",
    "# Splitting dataset\n",
    "X_train, X_test, y_train, y_test = train_test_split(X, y, test_size=0.2, random_state=42)\n",
    "\n",
    "smote = SMOTE(random_state=42)\n",
    "X_resampled, y_resampled = smote.fit_resample(X_train, y_train)\n",
    "\n",
    "# Standardization\n",
    "scaler = StandardScaler()\n",
    "X_train = scaler.fit_transform(X_train)\n",
    "X_test = scaler.transform(X_test)\n",
    "\n",
    "# Train model\n",
    "model = RandomForestClassifier(n_estimators=100, random_state=42)\n",
    "model.fit(X_train, y_train)\n",
    "\n",
    "# Evaluate the trained model\n",
    "y_pred = model.predict(X_test)\n",
    "print(classification_report(y_test, y_pred))\n",
    "print(\"ROC-AUC Score:\", roc_auc_score(y_test, model.predict_proba(X_test)[:, 1]))\n",
    "print(\"Confusion Matrix:\\n\", confusion_matrix(y_test, y_pred))"
   ]
  },
  {
   "cell_type": "markdown",
   "id": "b47e3cf6-09c5-4526-88a0-daf69fc55ef9",
   "metadata": {},
   "source": [
    "### Saving the model parameters"
   ]
  },
  {
   "cell_type": "code",
   "execution_count": null,
   "id": "a9b16696-ed26-4c81-95f8-072720831ff6",
   "metadata": {},
   "outputs": [],
   "source": [
    "import os\n",
    "from os.path import join as osp\n",
    "import joblib\n",
    "\n",
    "dir_name = \"./saved_params\"\n",
    "if not os.path.exists(dir_name):\n",
    "    os.mkdir(dir_name)\n",
    "\n",
    "# Save model and scaler\n",
    "joblib.dump(model, osp(f\"{dir_name}\", \"model.pkl\"))\n",
    "joblib.dump(scaler, osp(f\"{dir_name}\", \"scaler.pkl\"))\n",
    "joblib.dump(X.columns.tolist(), osp(f\"{dir_name}\", \"feature_columns.pkl\"))\n",
    "joblib.dump(risk_mapping, osp(f\"{dir_name}\", \"risk_mapping.pkl\"))"
   ]
  }
 ],
 "metadata": {
  "kernelspec": {
   "display_name": "Python 3 (ipykernel)",
   "language": "python",
   "name": "python3"
  },
  "language_info": {
   "codemirror_mode": {
    "name": "ipython",
    "version": 3
   },
   "file_extension": ".py",
   "mimetype": "text/x-python",
   "name": "python",
   "nbconvert_exporter": "python",
   "pygments_lexer": "ipython3",
   "version": "3.10.0"
  }
 },
 "nbformat": 4,
 "nbformat_minor": 5
}
